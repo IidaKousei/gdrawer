{
 "cells": [
  {
   "cell_type": "code",
   "execution_count": 1,
   "metadata": {},
   "outputs": [
    {
     "name": "stdout",
     "output_type": "stream",
     "text": [
      "画像のリサイズが完了しました。\n"
     ]
    }
   ],
   "source": [
    "from PIL import Image\n",
    "import glob\n",
    "import os\n",
    "\n",
    "# 画像のフォルダと保存先フォルダを指定\n",
    "input_folder = \"../../DA研/おふざけやで/Geo改\"\n",
    "output_folder = \"../../DA研/おふざけやで/Geo新\"\n",
    "\n",
    "# 変更後のサイズを指定（例：幅800ピクセル、高さ600ピクセル）\n",
    "new_width = 320\n",
    "new_height = 320\n",
    "\n",
    "# 入力フォルダ内のすべての画像を取得\n",
    "images = glob.glob(os.path.join(input_folder, \"*\"))\n",
    "\n",
    "for image_path in images:\n",
    "    with Image.open(image_path) as img:\n",
    "        # 画像をリサイズ\n",
    "        resized_img = img.resize((new_width, new_height))\n",
    "\n",
    "        # 保存先フォルダにリサイズされた画像を保存\n",
    "        base_name = os.path.basename(image_path)\n",
    "        save_path = os.path.join(output_folder, base_name)\n",
    "        resized_img.save(save_path)\n",
    "\n",
    "print(\"画像のリサイズが完了しました。\")\n"
   ]
  },
  {
   "cell_type": "code",
   "execution_count": null,
   "metadata": {},
   "outputs": [],
   "source": []
  }
 ],
 "metadata": {
  "kernelspec": {
   "display_name": "gdrawer.env",
   "language": "python",
   "name": "python3"
  },
  "language_info": {
   "codemirror_mode": {
    "name": "ipython",
    "version": 3
   },
   "file_extension": ".py",
   "mimetype": "text/x-python",
   "name": "python",
   "nbconvert_exporter": "python",
   "pygments_lexer": "ipython3",
   "version": "3.12.6"
  }
 },
 "nbformat": 4,
 "nbformat_minor": 2
}
